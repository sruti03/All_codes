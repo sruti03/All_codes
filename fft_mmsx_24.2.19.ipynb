{
 "cells": [
  {
   "cell_type": "code",
   "execution_count": 1,
   "id": "12ca5d12",
   "metadata": {
    "scrolled": true
   },
   "outputs": [
    {
     "name": "stdout",
     "output_type": "stream",
     "text": [
      "402.1157324569167 0.00034871023664879823\n",
      "2306304 2306304\n"
     ]
    },
    {
     "name": "stderr",
     "output_type": "stream",
     "text": [
      "C:\\Users\\LENOVO\\anaconda3\\lib\\site-packages\\matplotlib\\cbook\\__init__.py:1298: ComplexWarning: Casting complex values to real discards the imaginary part\n",
      "  return np.asarray(x, float)\n"
     ]
    },
    {
     "data": {
      "image/png": "[encoded data removed]",
      "text/plain": [
       "<Figure size 400x300 with 1 Axes>"
      ]
     },
     "metadata": {},
     "output_type": "display_data"
    },
    {
     "data": {
      "text/plain": [
       "402.11573249388766"
      ]
     },
     "execution_count": 1,
     "metadata": {},
     "output_type": "execute_result"
    }
   ],
   "source": [
    "import numpy as np\n",
    "import matplotlib.pyplot as plt\n",
    "from matplotlib import gridspec\n",
    "\n",
    "#data\n",
    "mag=np.load('magneticz.npy')\n",
    "time=np.load('Time.24.02.2019.mms1.npy')\n",
    "\n",
    "\n",
    "l = time.size\n",
    "h = (time[l-1]-time[0])/(l-1)\n",
    "del_w = (2*np.pi)/(time[l-1])       \n",
    "w_m = (np.pi)/h\n",
    "print(w_m,del_w)\n",
    "\n",
    "w = np.arange(-w_m,w_m,del_w)       #freq array\n",
    "\n",
    "#fourier transform\n",
    "fourier = np.fft.fft(mag)\n",
    "fourier_sorted = np.fft.fftshift(fourier)\n",
    "f_mag2= fourier_sorted*(np.conjugate(fourier_sorted))\n",
    "f_mag = np.sqrt(f_mag2)\n",
    "f_log=np.log(f_mag)\n",
    "p=abs(fourier_sorted)**2\n",
    "\n",
    "fig, axs = plt.subplots(1, 1,\n",
    "                        figsize =(4, 3),\n",
    "                        tight_layout = True)\n",
    "\n",
    "plt.plot(w,f_mag)\n",
    "plt.xscale(\"log\")\n",
    "plt.yscale(\"log\")\n",
    "\n",
    "plt.xlabel('Frequency (radian/secs)')\n",
    "plt.ylabel('Power')\n",
    "plt.xlim(1e-4,4.3*1e2)\n",
    "\n",
    "fig.savefig('logfft1x.eps', format='eps', dpi=300)\n",
    "plt.show()"
   ]
  },
  {
   "cell_type": "code",
   "execution_count": 2,
   "id": "f16f5565",
   "metadata": {},
   "outputs": [
    {
     "name": "stdout",
     "output_type": "stream",
     "text": [
      "1067120 1239183 1153151\n"
     ]
    }
   ],
   "source": [
    "# range where noise exists\n",
    "\n",
    "def closest(w, K):\n",
    "      \n",
    "    return (min(range(len(w)), key = lambda i: abs(w[i]-K)))\n",
    "      \n",
    "K1 = -30.0\n",
    "K2 = 30.0\n",
    "K3 = 0.0\n",
    "start= closest(w, K1)\n",
    "end = closest(w, K2)\n",
    "zero = closest(w,K3)\n",
    "print(start,end,zero)"
   ]
  },
  {
   "cell_type": "code",
   "execution_count": 3,
   "id": "ebfe4583",
   "metadata": {},
   "outputs": [
    {
     "data": {
      "text/plain": [
       "2306304"
      ]
     },
     "execution_count": 3,
     "metadata": {},
     "output_type": "execute_result"
    }
   ],
   "source": [
    "#eliminating noise\n",
    "narr=fourier_sorted\n",
    "narr[:start]=0\n",
    "narr[end+1:]=0\n",
    "is_narr=np.fft.ifftshift(narr)   "
   ]
  },
  {
   "cell_type": "code",
   "execution_count": 4,
   "id": "31947a90",
   "metadata": {},
   "outputs": [],
   "source": [
    "inv_f = np.fft.ifft(is_narr)    #inv fourier transorm\n",
    "inverse_fourier=inv_f.real"
   ]
  },
  {
   "cell_type": "code",
   "execution_count": 6,
   "id": "0f4d6b58",
   "metadata": {},
   "outputs": [],
   "source": [
    "np.save('nfmms1bz.30',inverse_fourier)       #noise reduced data"
   ]
  },
  {
   "cell_type": "code",
   "execution_count": null,
   "id": "d4a35986",
   "metadata": {},
   "outputs": [],
   "source": []
  }
 ],
 "metadata": {
  "kernelspec": {
   "display_name": "Python 3 (ipykernel)",
   "language": "python",
   "name": "python3"
  },
  "language_info": {
   "codemirror_mode": {
    "name": "ipython",
    "version": 3
   },
   "file_extension": ".py",
   "mimetype": "text/x-python",
   "name": "python",
   "nbconvert_exporter": "python",
   "pygments_lexer": "ipython3",
   "version": "3.9.13"
  }
 },
 "nbformat": 4,
 "nbformat_minor": 5
}
